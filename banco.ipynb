{
 "cells": [
  {
   "cell_type": "code",
   "execution_count": 1,
   "metadata": {},
   "outputs": [
    {
     "name": "stdout",
     "output_type": "stream",
     "text": [
      "Numero de cuenta: CJPPD-1, Titular de la Cuenta: Pepito, Saldo disponible en la cuenta: 1000, NO HAY TRANSACCIONES REGISTRADAS\n",
      "Numero de cuenta: CJPPD-2, Titular de la Cuenta: Juanjo, Saldo disponible en la cuenta: 500, NO HAY TRANSACCIONES REGISTRADAS\n",
      "Numero de cuenta: CJPPD-1, Titular de la Cuenta: Pepito, Saldo disponible en la cuenta: 750, SU HISTORIAL DE TRANSACCIONES: ['SE HA RETIRADO: 250|2025-02-22']\n",
      "Numero de cuenta: CJPPD-1, Titular de la Cuenta: Pepito, Saldo disponible en la cuenta: 300, SU HISTORIAL DE TRANSACCIONES: ['SE HA RETIRADO: 250|2025-02-22', '$450 TRANSFERIDOS A: CJPPD-2|2025-02-22']\n",
      "Numero de cuenta: CJPPD-2, Titular de la Cuenta: Juanjo, Saldo disponible en la cuenta: 950, SU HISTORIAL DE TRANSACCIONES: ['$450 RECIBIDOS DE: CJPPD-1|2025-02-22']\n"
     ]
    }
   ],
   "source": [
    "import controlador\n",
    "app = controlador.ControladorCuentas()"
   ]
  }
 ],
 "metadata": {
  "kernelspec": {
   "display_name": ".venv",
   "language": "python",
   "name": "python3"
  },
  "language_info": {
   "codemirror_mode": {
    "name": "ipython",
    "version": 3
   },
   "file_extension": ".py",
   "mimetype": "text/x-python",
   "name": "python",
   "nbconvert_exporter": "python",
   "pygments_lexer": "ipython3",
   "version": "3.12.4"
  }
 },
 "nbformat": 4,
 "nbformat_minor": 2
}
