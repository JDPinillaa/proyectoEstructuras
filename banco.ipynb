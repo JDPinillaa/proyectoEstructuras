{
 "cells": [
  {
   "cell_type": "code",
   "execution_count": 38,
   "metadata": {},
   "outputs": [],
   "source": [
    "class CuentaBancaria:\n",
    "    __cantidadCuentas = 0\n",
    "    def __init__(self, titular, saldo):\n",
    "        self.__titular = titular\n",
    "        self.__saldo = saldo\n",
    "        self.__cantidadCuentas += 1\n",
    "        self.__numeroCuenta = 'CJPPD-{0}'.format(self.__cantidadCuentas)\n",
    "        self.__historialTransacciones = []\n",
    "    def __str__(self):\n",
    "        return 'Numero de cuenta: {0}, Titular de la Cuenta: {1}, Saldo disponible en la cuenta: {2}'.format(self.__numeroCuenta,self.__titular,self.__saldo)\n",
    "    def getNumeroCuenta(self,):\n",
    "        return self.__numeroCuenta\n",
    "    def setMonto(self, monto):\n",
    "        self.__saldo += monto"
   ]
  },
  {
   "cell_type": "code",
   "execution_count": 39,
   "metadata": {},
   "outputs": [
    {
     "name": "stdout",
     "output_type": "stream",
     "text": [
      "Numero de cuenta: CJPPD-1, Titular de la Cuenta: Pepito, Saldo disponible en la cuenta: 1000\n"
     ]
    }
   ],
   "source": [
    "class Banco:\n",
    "    def __init__(self, cuentasBanco):\n",
    "        self.cuentasBanco = cuentasBanco\n",
    "    def __init__(self):\n",
    "        self.cuentasBanco = []\n",
    "    def crearCuenta(self, titular, saldo_inicial):\n",
    "        cuentaNueva = CuentaBancaria(titular, saldo_inicial)\n",
    "        cuentaDict = dict()\n",
    "        cuentaDict[cuentaNueva.getNumeroCuenta()] = cuentaNueva\n",
    "        self.cuentasBanco.append(cuentaDict)\n",
    "    def depositar(self, numero_cuenta, monto):\n",
    "        for cuenta in self.cuentasBanco:\n",
    "            if numero_cuenta in cuenta.keys():\n",
    "                cuenta[numero_cuenta].setMonto(monto)\n",
    "    def consultarCuenta(self, numeroCuenta):\n",
    "        digitos = numeroCuenta.split('-')\n",
    "        cuenta = self.cuentasBanco[int(digitos[1])-1]\n",
    "        print(cuenta[numeroCuenta])\n",
    "banco = Banco()\n",
    "banco.crearCuenta(\"Pepito\",1000)\n",
    "banco.consultarCuenta('CJPPD-1')"
   ]
  },
  {
   "cell_type": "code",
   "execution_count": null,
   "metadata": {},
   "outputs": [],
   "source": []
  }
 ],
 "metadata": {
  "kernelspec": {
   "display_name": ".venv",
   "language": "python",
   "name": "python3"
  },
  "language_info": {
   "codemirror_mode": {
    "name": "ipython",
    "version": 3
   },
   "file_extension": ".py",
   "mimetype": "text/x-python",
   "name": "python",
   "nbconvert_exporter": "python",
   "pygments_lexer": "ipython3",
   "version": "3.12.4"
  }
 },
 "nbformat": 4,
 "nbformat_minor": 2
}
