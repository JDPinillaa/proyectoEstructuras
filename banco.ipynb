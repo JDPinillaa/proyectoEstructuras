{
 "cells": [
  {
   "cell_type": "code",
   "execution_count": null,
   "metadata": {},
   "outputs": [
    {
     "name": "stdout",
     "output_type": "stream",
     "text": [
      "Numero de cuenta: CJPPD-1, Titular de la Cuenta: Pepito Perez, Saldo disponible en la cuenta: 1000\n"
     ]
    }
   ],
   "source": [
    "class CuentaBancaria:\n",
    "    cantidadCuentas = 0\n",
    "    def __init__(self, titular, saldo):\n",
    "        self.titular = titular\n",
    "        self.saldo = saldo\n",
    "        self.cantidadCuentas += 1\n",
    "        self.numeroCuenta = 'CJPPD-{0}'.format(self.cantidadCuentas)\n",
    "    def __str__(self):\n",
    "        return 'Numero de cuenta: {0}, Titular de la Cuenta: {1}, Saldo disponible en la cuenta: {2}'.format(self.numeroCuenta,self.titular,self.saldo)"
   ]
  }
 ],
 "metadata": {
  "kernelspec": {
   "display_name": ".venv",
   "language": "python",
   "name": "python3"
  },
  "language_info": {
   "codemirror_mode": {
    "name": "ipython",
    "version": 3
   },
   "file_extension": ".py",
   "mimetype": "text/x-python",
   "name": "python",
   "nbconvert_exporter": "python",
   "pygments_lexer": "ipython3",
   "version": "3.12.4"
  }
 },
 "nbformat": 4,
 "nbformat_minor": 2
}
